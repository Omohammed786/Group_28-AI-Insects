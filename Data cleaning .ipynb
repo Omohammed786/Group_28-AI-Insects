{
 "cells": [
  {
   "cell_type": "code",
   "execution_count": 1,
   "metadata": {},
   "outputs": [],
   "source": [
    "import os\n",
    "import shutil"
   ]
  },
  {
   "cell_type": "code",
   "execution_count": null,
   "metadata": {},
   "outputs": [],
   "source": [
    "classPath = 'C:\\\\Users\\\\omimo\\\\Group_28-AI-Insects\\\\classes.txt'\n",
    "classes=[]"
   ]
  },
  {
   "cell_type": "code",
   "execution_count": null,
   "metadata": {},
   "outputs": [],
   "source": [
    "with open(classPath, 'r') as File:\n",
    "    infoFile = File.readlines() \n",
    "    for line in infoFile: \n",
    "        words = line.strip() \n",
    "        classes.append(words[3:])"
   ]
  },
  {
   "cell_type": "code",
   "execution_count": null,
   "metadata": {},
   "outputs": [],
   "source": [
    "classes"
   ]
  },
  {
   "cell_type": "code",
   "execution_count": null,
   "metadata": {},
   "outputs": [],
   "source": [
    "root_path = 'C:\\\\Users\\\\omimo\\\\Group_28-AI-Insects\\\\Insect_dataset\\\\ip102_v1.1\\\\train'"
   ]
  },
  {
   "cell_type": "code",
   "execution_count": null,
   "metadata": {},
   "outputs": [],
   "source": [
    "folders = classes\n",
    "for folder in folders:\n",
    "    os.mkdir(os.path.join(root_path,folder))"
   ]
  },
  {
   "cell_type": "code",
   "execution_count": null,
   "metadata": {},
   "outputs": [],
   "source": [
    "traintxt='C:\\\\Users\\\\omimo\\\\Group_28-AI-Insects\\\\Insect_dataset\\\\ip102_v1.1\\\\train.txt'"
   ]
  },
  {
   "cell_type": "code",
   "execution_count": null,
   "metadata": {},
   "outputs": [],
   "source": [
    "filenames=[]\n",
    "with open(traintxt, 'r') as File:\n",
    "    infoFile = File.readlines() \n",
    "    for line in infoFile: \n",
    "        words=line.strip()\n",
    "        filenames.append(words[:10])"
   ]
  },
  {
   "cell_type": "code",
   "execution_count": null,
   "metadata": {},
   "outputs": [],
   "source": [
    "filenames"
   ]
  },
  {
   "cell_type": "code",
   "execution_count": null,
   "metadata": {},
   "outputs": [],
   "source": [
    "source =r'C:\\Users\\omimo\\Group_28-AI-Insects\\Insect_dataset\\ip102_v1.1\\images'\n",
    "trainPath=r'C:\\Users\\omimo\\Group_28-AI-Insects\\Insect_dataset\\ip102_v1.1\\trainimg'"
   ]
  },
  {
   "cell_type": "code",
   "execution_count": null,
   "metadata": {},
   "outputs": [],
   "source": [
    "files = os.listdir(source)\n",
    "for f in files:\n",
    "    if '00002.jpg':\n",
    "        shutil.copy(os.path.abspath(f), trainPath)"
   ]
  },
  {
   "cell_type": "code",
   "execution_count": null,
   "metadata": {},
   "outputs": [],
   "source": [
    "files"
   ]
  }
 ],
 "metadata": {
  "kernelspec": {
   "display_name": "Python 3",
   "language": "python",
   "name": "python3"
  },
  "language_info": {
   "codemirror_mode": {
    "name": "ipython",
    "version": 3
   },
   "file_extension": ".py",
   "mimetype": "text/x-python",
   "name": "python",
   "nbconvert_exporter": "python",
   "pygments_lexer": "ipython3",
   "version": "3.8.3"
  }
 },
 "nbformat": 4,
 "nbformat_minor": 4
}
