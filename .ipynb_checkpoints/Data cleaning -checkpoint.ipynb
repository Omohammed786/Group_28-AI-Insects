{
 "cells": [
  {
   "cell_type": "code",
   "execution_count": 1,
   "metadata": {},
   "outputs": [],
   "source": [
    "import os\n",
    "import shutil"
   ]
  },
  {
   "cell_type": "code",
   "execution_count": 2,
   "metadata": {},
   "outputs": [],
   "source": [
    "classPath = 'C:\\\\Users\\\\User\\\\Group_28-AI-Insects\\\\classes.txt'\n",
    "classes=[]"
   ]
  },
  {
   "cell_type": "code",
   "execution_count": 3,
   "metadata": {},
   "outputs": [],
   "source": [
    "with open(classPath, 'r') as File:\n",
    "    infoFile = File.readlines() \n",
    "    for line in infoFile: \n",
    "        words = line.strip() \n",
    "        classes.append(words[3:])"
   ]
  },
  {
   "cell_type": "code",
   "execution_count": 4,
   "metadata": {},
   "outputs": [
    {
     "data": {
      "text/plain": [
       "['rice leaf roller',\n",
       " 'rice leaf caterpillar',\n",
       " 'paddy stem maggot',\n",
       " 'asiatic rice borer',\n",
       " 'yellow rice borer',\n",
       " 'rice gall midge',\n",
       " 'Rice Stemfly',\n",
       " 'brown plant hopper',\n",
       " 'white backed plant hopper',\n",
       " 'small brown plant hopper',\n",
       " 'rice water weevil',\n",
       " 'rice leafhopper',\n",
       " 'grain spreader thrips',\n",
       " 'rice shell pest',\n",
       " 'grub',\n",
       " 'mole cricket',\n",
       " 'wireworm',\n",
       " 'white margined moth',\n",
       " 'black cutworm',\n",
       " 'large cutworm',\n",
       " 'yellow cutworm',\n",
       " 'red spider',\n",
       " 'corn borer',\n",
       " 'army worm',\n",
       " 'aphids',\n",
       " 'Potosiabre vitarsis',\n",
       " 'peach borer',\n",
       " 'english grain aphid',\n",
       " 'green bug',\n",
       " 'bird cherry-oataphid',\n",
       " 'wheat blossom midge',\n",
       " 'penthaleus major',\n",
       " 'longlegged spider mite',\n",
       " 'wheat phloeothrips',\n",
       " 'wheat sawfly',\n",
       " 'cerodonta denticornis',\n",
       " 'beet fly',\n",
       " 'flea beetle',\n",
       " 'cabbage army worm',\n",
       " 'beet army worm',\n",
       " 'Beet spot flies',\n",
       " 'meadow moth',\n",
       " 'beet weevil',\n",
       " 'sericaorient alismots chulsky',\n",
       " 'alfalfa weevil',\n",
       " 'flax budworm',\n",
       " 'alfalfa plant bug',\n",
       " 'tarnished plant bug',\n",
       " 'Locustoidea',\n",
       " 'lytta polita',\n",
       " 'legume blister beetle',\n",
       " 'blister beetle',\n",
       " 'therioaphis maculata Buckton',\n",
       " 'odontothrips loti',\n",
       " 'Thrips',\n",
       " 'alfalfa seed chalcid',\n",
       " 'Pieris canidia',\n",
       " 'Apolygus lucorum',\n",
       " 'Limacodidae',\n",
       " 'Viteus vitifoliae',\n",
       " 'Colomerus vitis',\n",
       " 'Brevipoalpus lewisi McGregor',\n",
       " 'oides decempunctata',\n",
       " 'Polyphagotars onemus latus',\n",
       " 'Pseudococcus comstocki Kuwana',\n",
       " 'parathrene regalis',\n",
       " 'Ampelophaga',\n",
       " 'Lycorma delicatula',\n",
       " ' Xylotrechus',\n",
       " ' Cicadella viridis',\n",
       " ' Miridae',\n",
       " ' Trialeurodes vaporariorum',\n",
       " ' Erythroneura apicalis',\n",
       " ' Papilio xuthus',\n",
       " ' Panonchus citri McGregor',\n",
       " ' Phyllocoptes oleiverus ashmead',\n",
       " ' Icerya purchasi Maskell',\n",
       " ' Unaspis yanonensis',\n",
       " ' Ceroplastes rubens',\n",
       " ' Chrysomphalus aonidum',\n",
       " ' Parlatoria zizyphus Lucus',\n",
       " ' Nipaecoccus vastalor',\n",
       " ' Aleurocanthus spiniferus',\n",
       " ' Tetradacus c Bactrocera minax',\n",
       " ' Dacus dorsalis(Hendel)',\n",
       " ' Bactrocera tsuneonis',\n",
       " ' Prodenia litura',\n",
       " ' Adristyrannus',\n",
       " ' Phyllocnistis citrella Stainton',\n",
       " ' Toxoptera citricidus',\n",
       " ' Toxoptera aurantii',\n",
       " ' Aphis citricola Vander Goot',\n",
       " ' Scirtothrips dorsalis Hood',\n",
       " ' Dasineura sp',\n",
       " ' Lawana imitata Melichar',\n",
       " ' Salurnis marginella Guerr',\n",
       " ' Deporaus marginatus Pascoe',\n",
       " ' Chlumetia transversa',\n",
       " ' Mango flat beak leafhopper',\n",
       " ' Rhytidodera bowrinii white',\n",
       " ' Sternochetus frigidus',\n",
       " ' Cicadellidae']"
      ]
     },
     "execution_count": 4,
     "metadata": {},
     "output_type": "execute_result"
    }
   ],
   "source": [
    "classes"
   ]
  },
  {
   "cell_type": "code",
   "execution_count": null,
   "metadata": {},
   "outputs": [],
   "source": [
    "root_path = 'C:\\\\Users\\\\omimo\\\\Group_28-AI-Insects\\\\Insect_dataset\\\\ip102_v1.1\\\\train'"
   ]
  },
  {
   "cell_type": "code",
   "execution_count": null,
   "metadata": {},
   "outputs": [],
   "source": [
    "folders = classes\n",
    "for folder in folders:\n",
    "    os.mkdir(os.path.join(root_path,folder))"
   ]
  },
  {
   "cell_type": "code",
   "execution_count": null,
   "metadata": {},
   "outputs": [],
   "source": [
    "traintxt='C:\\\\Users\\\\omimo\\\\Group_28-AI-Insects\\\\Insect_dataset\\\\ip102_v1.1\\\\train.txt'"
   ]
  },
  {
   "cell_type": "code",
   "execution_count": null,
   "metadata": {},
   "outputs": [],
   "source": [
    "filenames=[]\n",
    "with open(traintxt, 'r') as File:\n",
    "    infoFile = File.readlines() \n",
    "    for line in infoFile: \n",
    "        words=line.strip()\n",
    "        filenames.append(words[:10])"
   ]
  },
  {
   "cell_type": "code",
   "execution_count": null,
   "metadata": {},
   "outputs": [],
   "source": [
    "filenames"
   ]
  },
  {
   "cell_type": "code",
   "execution_count": null,
   "metadata": {},
   "outputs": [],
   "source": [
    "source =r'C:\\Users\\omimo\\Group_28-AI-Insects\\Insect_dataset\\ip102_v1.1\\images'\n",
    "trainPath=r'C:\\Users\\omimo\\Group_28-AI-Insects\\Insect_dataset\\ip102_v1.1\\trainimg'"
   ]
  },
  {
   "cell_type": "code",
   "execution_count": null,
   "metadata": {},
   "outputs": [],
   "source": [
    "files = os.listdir(source)\n",
    "for f in files:\n",
    "    if '00002.jpg':\n",
    "        shutil.copy(os.path.abspath(f), trainPath)"
   ]
  },
  {
   "cell_type": "code",
   "execution_count": null,
   "metadata": {},
   "outputs": [],
   "source": [
    "files"
   ]
  }
 ],
 "metadata": {
  "kernelspec": {
   "display_name": "Python 3",
   "language": "python",
   "name": "python3"
  },
  "language_info": {
   "codemirror_mode": {
    "name": "ipython",
    "version": 3
   },
   "file_extension": ".py",
   "mimetype": "text/x-python",
   "name": "python",
   "nbconvert_exporter": "python",
   "pygments_lexer": "ipython3",
   "version": "3.8.8"
  }
 },
 "nbformat": 4,
 "nbformat_minor": 4
}
